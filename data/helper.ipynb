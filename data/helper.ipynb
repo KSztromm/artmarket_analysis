{
 "cells": [
  {
   "cell_type": "code",
   "execution_count": 122,
   "metadata": {},
   "outputs": [],
   "source": [
    "class Tom:\n",
    "    def __init__(self, mood):\n",
    "        self.mood = mood\n",
    "    def modify_mood(self, a, b, c='czar', d='dar'):\n",
    "        print(self.mood,a,b,c,d)\n",
    "    def modify_mood_2(self, x, y='yar'):\n",
    "        print(self.mood, x,y)\n",
    "    def play(self, func, args,kwargs):\n",
    "        print('1s')\n",
    "        func(*args,**kwargs)\n",
    "            \n",
    "        print('2s')\n",
    "me = Tom('bored')\n",
    "modify_mood_2 = me.modify_mood_2"
   ]
  },
  {
   "cell_type": "code",
   "execution_count": 123,
   "metadata": {},
   "outputs": [
    {
     "name": "stdout",
     "output_type": "stream",
     "text": [
      "1s\n",
      "bored 1 a\n",
      "2s\n"
     ]
    }
   ],
   "source": [
    "me.play(modify_mood_2,('1'),{'y':'a'})"
   ]
  }
 ],
 "metadata": {
  "kernelspec": {
   "display_name": "Python 3",
   "language": "python",
   "name": "python3"
  },
  "language_info": {
   "codemirror_mode": {
    "name": "ipython",
    "version": 3
   },
   "file_extension": ".py",
   "mimetype": "text/x-python",
   "name": "python",
   "nbconvert_exporter": "python",
   "pygments_lexer": "ipython3",
   "version": "3.8.2"
  }
 },
 "nbformat": 4,
 "nbformat_minor": 4
}
